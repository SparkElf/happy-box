{
 "cells": [
  {
   "cell_type": "code",
   "execution_count": 14,
   "metadata": {},
   "outputs": [],
   "source": [
    "import json\n",
    "\n",
    "with open('./source.json','r') as f:\n",
    "    data=json.load(f)\n",
    "\n",
    "nodes=data['nodes']\n",
    "for node in nodes:\n",
    "    del node['x']\n",
    "    del node['y']\n",
    "    del node['value']\n",
    "\n",
    "with open('./data.json','w') as f :\n",
    "    json.dump(data,f)\n"
   ]
  }
 ],
 "metadata": {
  "kernelspec": {
   "display_name": "Python 3",
   "language": "python",
   "name": "python3"
  },
  "language_info": {
   "codemirror_mode": {
    "name": "ipython",
    "version": 3
   },
   "file_extension": ".py",
   "mimetype": "text/x-python",
   "name": "python",
   "nbconvert_exporter": "python",
   "pygments_lexer": "ipython3",
   "version": "3.11.4"
  }
 },
 "nbformat": 4,
 "nbformat_minor": 2
}
