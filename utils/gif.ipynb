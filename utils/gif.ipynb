{
 "cells": [
  {
   "cell_type": "code",
   "execution_count": 9,
   "metadata": {},
   "outputs": [],
   "source": [
    "from PIL import Image\n",
    "import os\n",
    "\n",
    "# 定义一个函数来合成 GIF\n",
    "def create_gif(image_folder, output_gif, duration=100):\n",
    "    # 获取所有图片文件\n",
    "    images = [Image.open(os.path.join(image_folder, img))for img in sorted(os.listdir(image_folder)) if img.endswith(('.png', '.jpg', '.jpeg'))]\n",
    "\n",
    "    # 保存为 GIF\n",
    "    images[0].save(output_gif, save_all=True, append_images=images[1:], duration=duration, loop=0)\n",
    "\n",
    "# 使用示例\n",
    "image_folder = r'C:\\Users\\Administrator\\Documents\\WXWork\\1688857604470896\\Cache\\File\\2025-03\\合成 1\\合成 1'  # 替换为你的图片文件夹路径\n",
    "output_gif = 'output.gif'  # 输出的 GIF 文件名\n",
    "create_gif(image_folder, output_gif)"
   ]
  },
  {
   "cell_type": "code",
   "execution_count": 12,
   "metadata": {},
   "outputs": [],
   "source": [
    "from PIL import Image\n",
    "import os\n",
    "\n",
    "def read_and_save_image(image_path, output_path):\n",
    "    # 打开图片\n",
    "    with Image.open(image_path) as img:\n",
    "        # 调整图片尺寸（可选）\n",
    "        img = img\n",
    "        # 保存图片为 PNG 格式\n",
    "        img.save(output_path, format='PNG')\n",
    "        # print(f\"Saved {output_path}\")\n",
    "\n",
    "# 使用示例\n",
    "image_folder = r'C:\\Users\\Administrator\\Documents\\WXWork\\1688857604470896\\Cache\\File\\2025-03\\合成 1\\合成 1'  # 替换为你的图片文件夹路径\n",
    "output_folder = 'single_output'  # 替换为你的输出文件夹路径\n",
    "\n",
    "# 确保输出文件夹存在\n",
    "os.makedirs(output_folder, exist_ok=True)\n",
    "\n",
    "# 遍历图片文件夹中的所有图片\n",
    "for img in sorted(os.listdir(image_folder)):\n",
    "    if img.endswith(('.png', '.jpg', '.jpeg')):\n",
    "        image_path = os.path.join(image_folder, img)\n",
    "        output_path = os.path.join(output_folder, img.replace('.jpg', '.png').replace('.jpeg', '.png'))\n",
    "        read_and_save_image(image_path, output_path)"
   ]
  },
  {
   "cell_type": "code",
   "execution_count": 13,
   "metadata": {},
   "outputs": [],
   "source": [
    "from PIL import Image\n",
    "import os\n",
    "\n",
    "# 定义一个函数来合成 GIF\n",
    "def create_gif(image_folder, output_gif, duration=100):\n",
    "    # 获取所有图片文件\n",
    "    images = [Image.open(os.path.join(image_folder, img)).convert('P', palette=Image.ADAPTIVE, colors=256)\n",
    "              for img in sorted(os.listdir(image_folder)) if img.endswith(('.png', '.jpg', '.jpeg'))]\n",
    "\n",
    "    # 保存为 GIF\n",
    "    images[0].save(output_gif, save_all=True, append_images=images[1:], duration=duration, loop=0, optimize=False)\n",
    "\n",
    "# 使用示例\n",
    "image_folder = r'C:\\Users\\Administrator\\Documents\\WXWork\\1688857604470896\\Cache\\File\\2025-03\\合成 1\\合成 1'  # 替换为你的图片文件夹路径\n",
    "output_gif = 'output.gif'  # 输出的 GIF 文件名\n",
    "create_gif(image_folder, output_gif)"
   ]
  },
  {
   "cell_type": "code",
   "execution_count": 16,
   "metadata": {},
   "outputs": [
    {
     "name": "stdout",
     "output_type": "stream",
     "text": [
      "APNG 文件已保存到 output.apng\n"
     ]
    }
   ],
   "source": [
    "from PIL import Image\n",
    "import os\n",
    "from apng import APNG\n",
    "def ensure_png_with_transparency(image_folder):\n",
    "    \"\"\"\n",
    "    确保文件夹中的所有图片都是 PNG 格式，并包含透明通道。\n",
    "    \"\"\"\n",
    "    for img_name in sorted(os.listdir(image_folder)):\n",
    "        if img_name.endswith(('.jpg', '.jpeg')):\n",
    "            img_path = os.path.join(image_folder, img_name)\n",
    "            img = Image.open(img_path).convert('RGBA')  # 转换为 RGBA 模式\n",
    "            new_path = img_path.replace('.jpg', '.png').replace('.jpeg', '.png')\n",
    "            img.save(new_path)\n",
    "            os.remove(img_path)  # 删除原文件\n",
    "            print(f\"Converted {img_path} to {new_path}\")\n",
    "def convert_images_to_apng(image_folder, output_apng, duration=100):\n",
    "    \"\"\"\n",
    "    将图片文件夹中的图片序列转换为 APNG 文件。\n",
    "\n",
    "    :param image_folder: 包含图片的文件夹路径\n",
    "    :param output_apng: 输出的 APNG 文件路径\n",
    "    :param duration: 每帧的持续时间（毫秒）\n",
    "    \"\"\"\n",
    "    # 获取文件夹中的所有图片文件路径\n",
    "    image_paths = []\n",
    "    for img_name in sorted(os.listdir(image_folder)):\n",
    "        if img_name.endswith(('.png', '.jpg', '.jpeg')):\n",
    "            img_path = os.path.join(image_folder, img_name)\n",
    "            image_paths.append(img_path)\n",
    "\n",
    "    # 检查是否有图片\n",
    "    if not image_paths:\n",
    "        print(\"没有找到有效的图片文件。\")\n",
    "        return\n",
    "\n",
    "    # 保存为 APNG 文件\n",
    "    APNG.from_files(image_paths, delay=duration).save(output_apng)\n",
    "    print(f\"APNG 文件已保存到 {output_apng}\")\n",
    "\n",
    "# 使用示例\n",
    "image_folder = r'C:\\Users\\Administrator\\Documents\\WXWork\\1688857604470896\\Cache\\File\\2025-03\\合成 1\\合成 1'  # 替换为你的图片文件夹路径\n",
    "output_apng = 'output.apng'  # 输出的 APNG 文件路径\n",
    "ensure_png_with_transparency(image_folder)\n",
    "convert_images_to_apng(image_folder, output_apng, duration=50)  # 每帧持续时间 200 毫秒"
   ]
  }
 ],
 "metadata": {
  "kernelspec": {
   "display_name": "Python 3",
   "language": "python",
   "name": "python3"
  },
  "language_info": {
   "codemirror_mode": {
    "name": "ipython",
    "version": 3
   },
   "file_extension": ".py",
   "mimetype": "text/x-python",
   "name": "python",
   "nbconvert_exporter": "python",
   "pygments_lexer": "ipython3",
   "version": "3.13.2"
  }
 },
 "nbformat": 4,
 "nbformat_minor": 2
}
